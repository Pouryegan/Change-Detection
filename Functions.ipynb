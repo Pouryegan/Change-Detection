{
  "nbformat": 4,
  "nbformat_minor": 0,
  "metadata": {
    "colab": {
      "provenance": [],
      "authorship_tag": "ABX9TyOa2VFPFqxy096js4AIz9qC",
      "include_colab_link": true
    },
    "kernelspec": {
      "name": "python3",
      "display_name": "Python 3"
    },
    "language_info": {
      "name": "python"
    }
  },
  "cells": [
    {
      "cell_type": "markdown",
      "metadata": {
        "id": "view-in-github",
        "colab_type": "text"
      },
      "source": [
        "<a href=\"https://colab.research.google.com/github/Pouryegan/Change-Detection/blob/main/Functions.ipynb\" target=\"_parent\"><img src=\"https://colab.research.google.com/assets/colab-badge.svg\" alt=\"Open In Colab\"/></a>"
      ]
    },
    {
      "cell_type": "code",
      "execution_count": 15,
      "metadata": {
        "colab": {
          "base_uri": "https://localhost:8080/"
        },
        "id": "kk7f-uj94wPv",
        "outputId": "1da7b198-15fe-49ca-c541-1e68cde6a20b"
      },
      "outputs": [
        {
          "output_type": "stream",
          "name": "stdout",
          "text": [
            "Hello Mohammad\n"
          ]
        },
        {
          "output_type": "execute_result",
          "data": {
            "text/plain": [
              "8"
            ]
          },
          "metadata": {},
          "execution_count": 15
        }
      ],
      "source": [
        "def say_hi(name): # function defination\n",
        "    print(\"Hello \"+name) # Indention is important in function defination\n",
        "\n",
        "say_hi(\"Mohammad\")\n",
        "\n",
        "def cube(num):\n",
        "    C_num=num*num*num\n",
        "    return(C_num)\n",
        "    print(\"code\") # Nothing is printed after return\n",
        "cube(2)"
      ]
    },
    {
      "cell_type": "code",
      "source": [
        "is_male=False       # if condition\n",
        "is_tall=True\n",
        "if is_male and is_tall:# if is_male and is_tall:\n",
        "   print(\"You are a male and tall\")\n",
        "elif is_male and not(is_tall):\n",
        "    print(\"You are a short male\")\n",
        "elif not(is_male) and is_tall:\n",
        "  print(\"You are not a male but are tall\")\n",
        "else:\n",
        "   print(\"You are not a male and not tall\")"
      ],
      "metadata": {
        "colab": {
          "base_uri": "https://localhost:8080/"
        },
        "id": "dhmcFT_yC9gA",
        "outputId": "580915d3-4687-41f0-eee0-0e569104c8b4"
      },
      "execution_count": 28,
      "outputs": [
        {
          "output_type": "stream",
          "name": "stdout",
          "text": [
            "You are not a male but are tall\n"
          ]
        }
      ]
    },
    {
      "cell_type": "code",
      "source": [
        "def max_num(num1, num2, num3): # comparision statements\n",
        "    if num1>=num2 and num1>=num3: # \"dogs\"==\"dogs\", num==num2, num1!=num2, num1<=num2\n",
        "      return (num1)\n",
        "    elif num2>=num1 and num2>=num3:\n",
        "      return num2\n",
        "    else:\n",
        "      return (num3)\n",
        "print(max_num(300,33,-3))"
      ],
      "metadata": {
        "colab": {
          "base_uri": "https://localhost:8080/"
        },
        "id": "Spr6c1VwF96T",
        "outputId": "3fc9f944-c541-4351-eee7-abdbc207ce0f"
      },
      "execution_count": 30,
      "outputs": [
        {
          "output_type": "stream",
          "name": "stdout",
          "text": [
            "300\n"
          ]
        }
      ]
    },
    {
      "cell_type": "code",
      "source": [
        "num1=float(input(\"Enter first number: \")) # calculator\n",
        "op=input(\"Enter operator \")\n",
        "num2=float(input(\"Enter second number: \"))\n",
        "if op==\"+\":\n",
        "     print(num1+num2)\n",
        "elif op==\"-\":\n",
        "    print(num1-num2)\n",
        "elif op==\"/\":\n",
        "    print(num1/num2)\n",
        "elif op==\"*\":\n",
        "    print(num1*num2)\n",
        "else:\n",
        "  print(\"operator is invalid\")"
      ],
      "metadata": {
        "colab": {
          "base_uri": "https://localhost:8080/"
        },
        "id": "gGkH6myIHhP0",
        "outputId": "d667bce8-8fb6-47ac-91c5-f5aed08f8534"
      },
      "execution_count": 34,
      "outputs": [
        {
          "output_type": "stream",
          "name": "stdout",
          "text": [
            "Enter first number: 2\n",
            "Enter operator h\n",
            "Enter second number: 3\n",
            "operator is invalid\n"
          ]
        }
      ]
    },
    {
      "cell_type": "code",
      "source": [
        "monthConvrsions={             # dictionary\n",
        "    \"0\":\"January\",\n",
        "    \"1\":\"February\",\n",
        "    \"2\":\"March\",\n",
        "    \"3\":\"April\",\n",
        "    \"4\": \"May\",\n",
        "}\n",
        "print(monthConvrsions[\"1\"])\n",
        "print(monthConvrsions.get(\"Aper\",\"Not a valid key\"))"
      ],
      "metadata": {
        "colab": {
          "base_uri": "https://localhost:8080/"
        },
        "id": "RS_g9KRXJVlg",
        "outputId": "bcad05cd-7fe2-49e0-8ae3-1fae92df8c36"
      },
      "execution_count": 41,
      "outputs": [
        {
          "output_type": "stream",
          "name": "stdout",
          "text": [
            "February\n",
            "Not a valid key\n"
          ]
        }
      ]
    },
    {
      "cell_type": "code",
      "source": [
        "i=1      # while loop\n",
        "while i<=10:\n",
        "  print(i)\n",
        "  i+=1\n",
        "  print(\"still in loop\")\n",
        "print(\"Done with loop\")"
      ],
      "metadata": {
        "colab": {
          "base_uri": "https://localhost:8080/"
        },
        "id": "RIdlyz3zKvHi",
        "outputId": "8b384d2c-ec08-4215-b7f4-128bf2f32b19"
      },
      "execution_count": 47,
      "outputs": [
        {
          "output_type": "stream",
          "name": "stdout",
          "text": [
            "1\n",
            "still in loop\n",
            "2\n",
            "still in loop\n",
            "3\n",
            "still in loop\n",
            "4\n",
            "still in loop\n",
            "5\n",
            "still in loop\n",
            "6\n",
            "still in loop\n",
            "7\n",
            "still in loop\n",
            "8\n",
            "still in loop\n",
            "9\n",
            "still in loop\n",
            "10\n",
            "still in loop\n",
            "Done with loop\n"
          ]
        }
      ]
    },
    {
      "cell_type": "code",
      "source": [
        "secret_word=\"giraffe\" # quessing word\n",
        "guess=\"\"\n",
        "guess_count=0\n",
        "guess_limit=3\n",
        "out_of_guesses=False\n",
        "while guess!=secret_word and not(out_of_guesses):\n",
        "      if guess_count< guess_limit:\n",
        "         guess=input(\"Enter guess: \")\n",
        "         guess_count+=1\n",
        "      else:\n",
        "        out_of_guesses=True\n",
        "\n",
        "if out_of_guesses:\n",
        "   print(\"Out of Guesses, You lost\")\n",
        "else:\n",
        "      print(\"You win!\")"
      ],
      "metadata": {
        "colab": {
          "base_uri": "https://localhost:8080/"
        },
        "id": "bCTqbtSOME68",
        "outputId": "7c362481-e687-4258-c417-0016d9f67c04"
      },
      "execution_count": 62,
      "outputs": [
        {
          "output_type": "stream",
          "name": "stdout",
          "text": [
            "Enter guess: girrafe\n",
            "Enter guess: giraffe\n",
            "You win!\n"
          ]
        }
      ]
    }
  ]
}